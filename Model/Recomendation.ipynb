{
 "cells": [
  {
   "cell_type": "code",
   "execution_count": 16,
   "metadata": {},
   "outputs": [],
   "source": [
    "from typing import Dict, Text\n",
    "from sklearn.model_selection import train_test_split\n",
    "from sklearn.preprocessing import LabelEncoder\n",
    "\n",
    "import pandas as pd\n",
    "import numpy as np\n",
    "import tensorflow as tf\n",
    "\n",
    "import tensorflow_recommenders as tfrs"
   ]
  },
  {
   "cell_type": "code",
   "execution_count": 3,
   "metadata": {},
   "outputs": [],
   "source": [
    "df_reviews = pd.read_csv(\"/programing/Simulasi TF/SIMULASI/ML/Dataset/reviews.csv\")\n",
    "df_recipes = pd.read_csv(\"/programing/Simulasi TF/SIMULASI/ML/Dataset/recipes.csv\")\n"
   ]
  },
  {
   "cell_type": "code",
   "execution_count": 4,
   "metadata": {},
   "outputs": [
    {
     "data": {
      "text/html": [
       "<div>\n",
       "<style scoped>\n",
       "    .dataframe tbody tr th:only-of-type {\n",
       "        vertical-align: middle;\n",
       "    }\n",
       "\n",
       "    .dataframe tbody tr th {\n",
       "        vertical-align: top;\n",
       "    }\n",
       "\n",
       "    .dataframe thead th {\n",
       "        text-align: right;\n",
       "    }\n",
       "</style>\n",
       "<table border=\"1\" class=\"dataframe\">\n",
       "  <thead>\n",
       "    <tr style=\"text-align: right;\">\n",
       "      <th></th>\n",
       "      <th>RecipeId</th>\n",
       "      <th>Name</th>\n",
       "      <th>AuthorId</th>\n",
       "      <th>AuthorName</th>\n",
       "      <th>CookTime</th>\n",
       "      <th>PrepTime</th>\n",
       "      <th>TotalTime</th>\n",
       "      <th>DatePublished</th>\n",
       "      <th>Description</th>\n",
       "      <th>Images</th>\n",
       "      <th>...</th>\n",
       "      <th>SaturatedFat</th>\n",
       "      <th>Cholesterol</th>\n",
       "      <th>Sodium</th>\n",
       "      <th>CarbohydrateContent</th>\n",
       "      <th>Fiber</th>\n",
       "      <th>Sugar</th>\n",
       "      <th>Protein</th>\n",
       "      <th>RecipeServings</th>\n",
       "      <th>RecipeYield</th>\n",
       "      <th>RecipeInstructions</th>\n",
       "    </tr>\n",
       "  </thead>\n",
       "  <tbody>\n",
       "    <tr>\n",
       "      <th>0</th>\n",
       "      <td>38</td>\n",
       "      <td>Low-Fat Berry Blue Frozen Dessert</td>\n",
       "      <td>1533</td>\n",
       "      <td>Dancer</td>\n",
       "      <td>PT24H</td>\n",
       "      <td>PT45M</td>\n",
       "      <td>PT24H45M</td>\n",
       "      <td>1999-08-09T21:46:00Z</td>\n",
       "      <td>Make and share this Low-Fat Berry Blue Frozen ...</td>\n",
       "      <td>c(\"https://img.sndimg.com/food/image/upload/w_...</td>\n",
       "      <td>...</td>\n",
       "      <td>1.3</td>\n",
       "      <td>8.0</td>\n",
       "      <td>29.8</td>\n",
       "      <td>37.1</td>\n",
       "      <td>3.6</td>\n",
       "      <td>30.2</td>\n",
       "      <td>3.2</td>\n",
       "      <td>4.0</td>\n",
       "      <td>NaN</td>\n",
       "      <td>c(\"Toss 2 cups berries with sugar.\", \"Let stan...</td>\n",
       "    </tr>\n",
       "    <tr>\n",
       "      <th>1</th>\n",
       "      <td>39</td>\n",
       "      <td>Biryani</td>\n",
       "      <td>1567</td>\n",
       "      <td>elly9812</td>\n",
       "      <td>PT25M</td>\n",
       "      <td>PT4H</td>\n",
       "      <td>PT4H25M</td>\n",
       "      <td>1999-08-29T13:12:00Z</td>\n",
       "      <td>Make and share this Biryani recipe from Food.com.</td>\n",
       "      <td>c(\"https://img.sndimg.com/food/image/upload/w_...</td>\n",
       "      <td>...</td>\n",
       "      <td>16.6</td>\n",
       "      <td>372.8</td>\n",
       "      <td>368.4</td>\n",
       "      <td>84.4</td>\n",
       "      <td>9.0</td>\n",
       "      <td>20.4</td>\n",
       "      <td>63.4</td>\n",
       "      <td>6.0</td>\n",
       "      <td>NaN</td>\n",
       "      <td>c(\"Soak saffron in warm milk for 5 minutes and...</td>\n",
       "    </tr>\n",
       "    <tr>\n",
       "      <th>2</th>\n",
       "      <td>40</td>\n",
       "      <td>Best Lemonade</td>\n",
       "      <td>1566</td>\n",
       "      <td>Stephen Little</td>\n",
       "      <td>PT5M</td>\n",
       "      <td>PT30M</td>\n",
       "      <td>PT35M</td>\n",
       "      <td>1999-09-05T19:52:00Z</td>\n",
       "      <td>This is from one of my  first Good House Keepi...</td>\n",
       "      <td>c(\"https://img.sndimg.com/food/image/upload/w_...</td>\n",
       "      <td>...</td>\n",
       "      <td>0.0</td>\n",
       "      <td>0.0</td>\n",
       "      <td>1.8</td>\n",
       "      <td>81.5</td>\n",
       "      <td>0.4</td>\n",
       "      <td>77.2</td>\n",
       "      <td>0.3</td>\n",
       "      <td>4.0</td>\n",
       "      <td>NaN</td>\n",
       "      <td>c(\"Into a 1 quart Jar with tight fitting lid, ...</td>\n",
       "    </tr>\n",
       "  </tbody>\n",
       "</table>\n",
       "<p>3 rows × 28 columns</p>\n",
       "</div>"
      ],
      "text/plain": [
       "   RecipeId                               Name  AuthorId      AuthorName  \\\n",
       "0        38  Low-Fat Berry Blue Frozen Dessert      1533          Dancer   \n",
       "1        39                            Biryani      1567        elly9812   \n",
       "2        40                      Best Lemonade      1566  Stephen Little   \n",
       "\n",
       "  CookTime PrepTime TotalTime         DatePublished  \\\n",
       "0    PT24H    PT45M  PT24H45M  1999-08-09T21:46:00Z   \n",
       "1    PT25M     PT4H   PT4H25M  1999-08-29T13:12:00Z   \n",
       "2     PT5M    PT30M     PT35M  1999-09-05T19:52:00Z   \n",
       "\n",
       "                                         Description  \\\n",
       "0  Make and share this Low-Fat Berry Blue Frozen ...   \n",
       "1  Make and share this Biryani recipe from Food.com.   \n",
       "2  This is from one of my  first Good House Keepi...   \n",
       "\n",
       "                                              Images  ... SaturatedFat  \\\n",
       "0  c(\"https://img.sndimg.com/food/image/upload/w_...  ...          1.3   \n",
       "1  c(\"https://img.sndimg.com/food/image/upload/w_...  ...         16.6   \n",
       "2  c(\"https://img.sndimg.com/food/image/upload/w_...  ...          0.0   \n",
       "\n",
       "  Cholesterol Sodium CarbohydrateContent  Fiber  Sugar  Protein  \\\n",
       "0         8.0   29.8                37.1    3.6   30.2      3.2   \n",
       "1       372.8  368.4                84.4    9.0   20.4     63.4   \n",
       "2         0.0    1.8                81.5    0.4   77.2      0.3   \n",
       "\n",
       "   RecipeServings  RecipeYield  \\\n",
       "0             4.0          NaN   \n",
       "1             6.0          NaN   \n",
       "2             4.0          NaN   \n",
       "\n",
       "                                  RecipeInstructions  \n",
       "0  c(\"Toss 2 cups berries with sugar.\", \"Let stan...  \n",
       "1  c(\"Soak saffron in warm milk for 5 minutes and...  \n",
       "2  c(\"Into a 1 quart Jar with tight fitting lid, ...  \n",
       "\n",
       "[3 rows x 28 columns]"
      ]
     },
     "execution_count": 4,
     "metadata": {},
     "output_type": "execute_result"
    }
   ],
   "source": [
    "# df_recipes.drop(['CookTime', 'PrepTime', 'TotalTime', 'DatePublished'], axis=1, inplace=True)\n",
    "df_recipes = df_recipes.rename(columns={\n",
    "    'FatContent': 'Fat',\n",
    "    'SaturatedFatContent': 'SaturatedFat',\n",
    "    'CholesterolContent': 'Cholesterol',\n",
    "    'SodiumContent': 'Sodium',\n",
    "    'CarbohydrateContent\t': 'Carbohydrate',\n",
    "    'FiberContent': 'Fiber',\n",
    "    'SugarContent': 'Sugar',\n",
    "    'ProteinContent': 'Protein'\n",
    "})\n",
    "df_recipes.head(3)"
   ]
  },
  {
   "cell_type": "code",
   "execution_count": 5,
   "metadata": {},
   "outputs": [
    {
     "data": {
      "text/plain": [
       "71213"
      ]
     },
     "execution_count": 5,
     "metadata": {},
     "output_type": "execute_result"
    }
   ],
   "source": [
    "user_counts = df_reviews.groupby('AuthorId')['RecipeId'].nunique()\n",
    "single_recipe_users = user_counts[user_counts == 1].index.tolist()\n",
    "recipesidss = df_reviews.loc[df_reviews['AuthorId'].isin(single_recipe_users), 'RecipeId']\n",
    "recipe_counts = df_reviews.loc[df_reviews['RecipeId'].isin(recipesidss),'RecipeId'].value_counts()\n",
    "len(recipe_counts)"
   ]
  },
  {
   "cell_type": "code",
   "execution_count": 6,
   "metadata": {},
   "outputs": [
    {
     "data": {
      "text/plain": [
       "11411"
      ]
     },
     "execution_count": 6,
     "metadata": {},
     "output_type": "execute_result"
    }
   ],
   "source": [
    "useless_recipes = recipe_counts[recipe_counts == 1].index.tolist()\n",
    "len(useless_recipes)"
   ]
  },
  {
   "cell_type": "code",
   "execution_count": 7,
   "metadata": {},
   "outputs": [
    {
     "data": {
      "text/plain": [
       "1390571"
      ]
     },
     "execution_count": 7,
     "metadata": {},
     "output_type": "execute_result"
    }
   ],
   "source": [
    "df_reviews = df_reviews[~df_reviews[\"RecipeId\"].isin(useless_recipes)]\n",
    "len(df_reviews)"
   ]
  },
  {
   "cell_type": "code",
   "execution_count": 8,
   "metadata": {},
   "outputs": [
    {
     "data": {
      "text/plain": [
       "511106"
      ]
     },
     "execution_count": 8,
     "metadata": {},
     "output_type": "execute_result"
    }
   ],
   "source": [
    "df_recipes = df_recipes[~df_recipes[\"RecipeId\"].isin(useless_recipes)]\n",
    "len(df_recipes)"
   ]
  },
  {
   "cell_type": "code",
   "execution_count": 9,
   "metadata": {},
   "outputs": [
    {
     "data": {
      "text/plain": [
       "260263"
      ]
     },
     "execution_count": 9,
     "metadata": {},
     "output_type": "execute_result"
    }
   ],
   "source": [
    "recipesReviews = df_recipes.loc[df_recipes['RecipeId'].isin(df_reviews['RecipeId'].unique())]\n",
    "len(recipesReviews)"
   ]
  },
  {
   "cell_type": "code",
   "execution_count": 10,
   "metadata": {},
   "outputs": [
    {
     "data": {
      "text/plain": [
       "19"
      ]
     },
     "execution_count": 10,
     "metadata": {},
     "output_type": "execute_result"
    }
   ],
   "source": [
    "recipesNot_in_list = df_reviews.loc[~df_reviews['RecipeId'].isin(df_recipes['RecipeId'])]\n",
    "len(recipesNot_in_list)"
   ]
  },
  {
   "cell_type": "code",
   "execution_count": 11,
   "metadata": {},
   "outputs": [
    {
     "data": {
      "text/plain": [
       "1390552"
      ]
     },
     "execution_count": 11,
     "metadata": {},
     "output_type": "execute_result"
    }
   ],
   "source": [
    "df_reviews = df_reviews.loc[~df_reviews['ReviewId'].isin(recipesNot_in_list['ReviewId'])]\n",
    "len(df_reviews)"
   ]
  },
  {
   "cell_type": "code",
   "execution_count": 12,
   "metadata": {},
   "outputs": [],
   "source": [
    "duplicates = recipesReviews[recipesReviews.duplicated(subset=['Name','AuthorId'],keep=False)]\n",
    "dropped_duplicates_df = duplicates.drop_duplicates(subset=['Name','AuthorId'],keep='first')"
   ]
  },
  {
   "cell_type": "code",
   "execution_count": 13,
   "metadata": {},
   "outputs": [],
   "source": [
    "temp2 = df_reviews.loc[df_reviews['RecipeId'].isin(duplicates['RecipeId'])]\n",
    "temp2 = temp2.drop(temp2[temp2['RecipeId'] == 28199].index)\n",
    "reviews_filterd = df_reviews.drop(index=df_reviews[df_reviews['ReviewId'].isin(temp2['ReviewId'])].index)"
   ]
  },
  {
   "cell_type": "code",
   "execution_count": 17,
   "metadata": {},
   "outputs": [
    {
     "name": "stdout",
     "output_type": "stream",
     "text": [
      "Number of users: 260292, Number of Recipes: 259893, Min rating: 0.0, Max rating: 5.0\n"
     ]
    }
   ],
   "source": [
    "user_ids = reviews_filterd[\"AuthorId\"].unique().tolist()\n",
    "user2user_encoded = {x: i for i, x in enumerate(user_ids)}\n",
    "userencoded2user = {i: x for i, x in enumerate(user_ids)}\n",
    "recipe_ids = reviews_filterd[\"RecipeId\"].unique().tolist()\n",
    "recipeID2recipeID_encoded = {x: i for i, x in enumerate(recipe_ids)}\n",
    "recipeID_encoded2recipeID = {i: x for i, x in enumerate(recipe_ids)}\n",
    "reviews_filterd[\"AuthorId\"] = reviews_filterd[\"AuthorId\"].map(user2user_encoded)\n",
    "reviews_filterd[\"RecipeId\"] = reviews_filterd[\"RecipeId\"].map(recipeID2recipeID_encoded)\n",
    "\n",
    "num_users = len(user2user_encoded)\n",
    "num_recipes = len(recipeID_encoded2recipeID)\n",
    "reviews_filterd[\"Rating\"] = reviews_filterd[\"Rating\"].values.astype(np.float32)\n",
    "# min and max ratings will be used to normalize the ratings later\n",
    "min_rating = min(reviews_filterd[\"Rating\"])\n",
    "max_rating = max(reviews_filterd[\"Rating\"])\n",
    "\n",
    "print(\n",
    "    \"Number of users: {}, Number of Recipes: {}, Min rating: {}, Max rating: {}\".format(\n",
    "        num_users, num_recipes, min_rating, max_rating\n",
    "    )\n",
    ")"
   ]
  },
  {
   "cell_type": "code",
   "execution_count": 18,
   "metadata": {},
   "outputs": [],
   "source": [
    "reviews_filterd = reviews_filterd.sample(frac=1, random_state=42)\n",
    "x = reviews_filterd[[\"AuthorId\", \"RecipeId\"]].values\n",
    "# Normalize the targets between 0 and 1. Makes it easy to train.\n",
    "y = reviews_filterd[\"Rating\"].apply(lambda x: (x - min_rating) / (max_rating - min_rating)).values\n",
    "# Assuming training on 90% of the data and validating on 10%.\n",
    "train_indices = int(0.9 * reviews_filterd.shape[0])\n",
    "x_train, x_val, y_train, y_val = (\n",
    "    x[:train_indices],\n",
    "    x[train_indices:],\n",
    "    y[:train_indices],\n",
    "    y[train_indices:],\n",
    ")\n",
    "reviews_filterd[\"Rating\"] = reviews_filterd[\"Rating\"].apply(lambda x: (x - min_rating) / (max_rating - min_rating)).values"
   ]
  },
  {
   "cell_type": "code",
   "execution_count": 19,
   "metadata": {},
   "outputs": [
    {
     "data": {
      "text/html": [
       "<div>\n",
       "<style scoped>\n",
       "    .dataframe tbody tr th:only-of-type {\n",
       "        vertical-align: middle;\n",
       "    }\n",
       "\n",
       "    .dataframe tbody tr th {\n",
       "        vertical-align: top;\n",
       "    }\n",
       "\n",
       "    .dataframe thead th {\n",
       "        text-align: right;\n",
       "    }\n",
       "</style>\n",
       "<table border=\"1\" class=\"dataframe\">\n",
       "  <thead>\n",
       "    <tr style=\"text-align: right;\">\n",
       "      <th></th>\n",
       "      <th>ReviewId</th>\n",
       "      <th>RecipeId</th>\n",
       "      <th>AuthorId</th>\n",
       "      <th>AuthorName</th>\n",
       "      <th>Rating</th>\n",
       "      <th>Review</th>\n",
       "      <th>DateSubmitted</th>\n",
       "      <th>DateModified</th>\n",
       "    </tr>\n",
       "  </thead>\n",
       "  <tbody>\n",
       "    <tr>\n",
       "      <th>0</th>\n",
       "      <td>2</td>\n",
       "      <td>992</td>\n",
       "      <td>2008</td>\n",
       "      <td>gayg msft</td>\n",
       "      <td>5</td>\n",
       "      <td>better than any you can get at a restaurant!</td>\n",
       "      <td>2000-01-25T21:44:00Z</td>\n",
       "      <td>2000-01-25T21:44:00Z</td>\n",
       "    </tr>\n",
       "    <tr>\n",
       "      <th>1</th>\n",
       "      <td>7</td>\n",
       "      <td>4384</td>\n",
       "      <td>1634</td>\n",
       "      <td>Bill Hilbrich</td>\n",
       "      <td>4</td>\n",
       "      <td>I cut back on the mayo, and made up the differ...</td>\n",
       "      <td>2001-10-17T16:49:59Z</td>\n",
       "      <td>2001-10-17T16:49:59Z</td>\n",
       "    </tr>\n",
       "    <tr>\n",
       "      <th>2</th>\n",
       "      <td>9</td>\n",
       "      <td>4523</td>\n",
       "      <td>2046</td>\n",
       "      <td>Gay Gilmore ckpt</td>\n",
       "      <td>2</td>\n",
       "      <td>i think i did something wrong because i could ...</td>\n",
       "      <td>2000-02-25T09:00:00Z</td>\n",
       "      <td>2000-02-25T09:00:00Z</td>\n",
       "    </tr>\n",
       "  </tbody>\n",
       "</table>\n",
       "</div>"
      ],
      "text/plain": [
       "   ReviewId  RecipeId  AuthorId        AuthorName  Rating  \\\n",
       "0         2       992      2008         gayg msft       5   \n",
       "1         7      4384      1634     Bill Hilbrich       4   \n",
       "2         9      4523      2046  Gay Gilmore ckpt       2   \n",
       "\n",
       "                                              Review         DateSubmitted  \\\n",
       "0       better than any you can get at a restaurant!  2000-01-25T21:44:00Z   \n",
       "1  I cut back on the mayo, and made up the differ...  2001-10-17T16:49:59Z   \n",
       "2  i think i did something wrong because i could ...  2000-02-25T09:00:00Z   \n",
       "\n",
       "           DateModified  \n",
       "0  2000-01-25T21:44:00Z  \n",
       "1  2001-10-17T16:49:59Z  \n",
       "2  2000-02-25T09:00:00Z  "
      ]
     },
     "execution_count": 19,
     "metadata": {},
     "output_type": "execute_result"
    }
   ],
   "source": [
    "pd.set_option('display.max_columns',28)\n",
    "df_reviews.head(3)"
   ]
  },
  {
   "cell_type": "code",
   "execution_count": 20,
   "metadata": {},
   "outputs": [
    {
     "data": {
      "text/html": [
       "<div>\n",
       "<style scoped>\n",
       "    .dataframe tbody tr th:only-of-type {\n",
       "        vertical-align: middle;\n",
       "    }\n",
       "\n",
       "    .dataframe tbody tr th {\n",
       "        vertical-align: top;\n",
       "    }\n",
       "\n",
       "    .dataframe thead th {\n",
       "        text-align: right;\n",
       "    }\n",
       "</style>\n",
       "<table border=\"1\" class=\"dataframe\">\n",
       "  <thead>\n",
       "    <tr style=\"text-align: right;\">\n",
       "      <th></th>\n",
       "      <th>RecipeId</th>\n",
       "      <th>Name</th>\n",
       "      <th>AuthorId</th>\n",
       "      <th>AuthorName</th>\n",
       "      <th>CookTime</th>\n",
       "      <th>PrepTime</th>\n",
       "      <th>TotalTime</th>\n",
       "      <th>DatePublished</th>\n",
       "      <th>Description</th>\n",
       "      <th>Images</th>\n",
       "      <th>RecipeCategory</th>\n",
       "      <th>Keywords</th>\n",
       "      <th>RecipeIngredientQuantities</th>\n",
       "      <th>RecipeIngredientParts</th>\n",
       "      <th>AggregatedRating</th>\n",
       "      <th>ReviewCount</th>\n",
       "      <th>Calories</th>\n",
       "      <th>Fat</th>\n",
       "      <th>SaturatedFat</th>\n",
       "      <th>Cholesterol</th>\n",
       "      <th>Sodium</th>\n",
       "      <th>CarbohydrateContent</th>\n",
       "      <th>Fiber</th>\n",
       "      <th>Sugar</th>\n",
       "      <th>Protein</th>\n",
       "      <th>RecipeServings</th>\n",
       "      <th>RecipeYield</th>\n",
       "      <th>RecipeInstructions</th>\n",
       "    </tr>\n",
       "  </thead>\n",
       "  <tbody>\n",
       "    <tr>\n",
       "      <th>0</th>\n",
       "      <td>38</td>\n",
       "      <td>Low-Fat Berry Blue Frozen Dessert</td>\n",
       "      <td>1533</td>\n",
       "      <td>Dancer</td>\n",
       "      <td>PT24H</td>\n",
       "      <td>PT45M</td>\n",
       "      <td>PT24H45M</td>\n",
       "      <td>1999-08-09T21:46:00Z</td>\n",
       "      <td>Make and share this Low-Fat Berry Blue Frozen ...</td>\n",
       "      <td>c(\"https://img.sndimg.com/food/image/upload/w_...</td>\n",
       "      <td>Frozen Desserts</td>\n",
       "      <td>c(\"Dessert\", \"Low Protein\", \"Low Cholesterol\",...</td>\n",
       "      <td>c(\"4\", \"1/4\", \"1\", \"1\")</td>\n",
       "      <td>c(\"blueberries\", \"granulated sugar\", \"vanilla ...</td>\n",
       "      <td>4.5</td>\n",
       "      <td>4.0</td>\n",
       "      <td>170.9</td>\n",
       "      <td>2.5</td>\n",
       "      <td>1.3</td>\n",
       "      <td>8.0</td>\n",
       "      <td>29.8</td>\n",
       "      <td>37.1</td>\n",
       "      <td>3.6</td>\n",
       "      <td>30.2</td>\n",
       "      <td>3.2</td>\n",
       "      <td>4.0</td>\n",
       "      <td>NaN</td>\n",
       "      <td>c(\"Toss 2 cups berries with sugar.\", \"Let stan...</td>\n",
       "    </tr>\n",
       "    <tr>\n",
       "      <th>1</th>\n",
       "      <td>39</td>\n",
       "      <td>Biryani</td>\n",
       "      <td>1567</td>\n",
       "      <td>elly9812</td>\n",
       "      <td>PT25M</td>\n",
       "      <td>PT4H</td>\n",
       "      <td>PT4H25M</td>\n",
       "      <td>1999-08-29T13:12:00Z</td>\n",
       "      <td>Make and share this Biryani recipe from Food.com.</td>\n",
       "      <td>c(\"https://img.sndimg.com/food/image/upload/w_...</td>\n",
       "      <td>Chicken Breast</td>\n",
       "      <td>c(\"Chicken Thigh &amp; Leg\", \"Chicken\", \"Poultry\",...</td>\n",
       "      <td>c(\"1\", \"4\", \"2\", \"2\", \"8\", \"1/4\", \"8\", \"1/2\", ...</td>\n",
       "      <td>c(\"saffron\", \"milk\", \"hot green chili peppers\"...</td>\n",
       "      <td>3.0</td>\n",
       "      <td>1.0</td>\n",
       "      <td>1110.7</td>\n",
       "      <td>58.8</td>\n",
       "      <td>16.6</td>\n",
       "      <td>372.8</td>\n",
       "      <td>368.4</td>\n",
       "      <td>84.4</td>\n",
       "      <td>9.0</td>\n",
       "      <td>20.4</td>\n",
       "      <td>63.4</td>\n",
       "      <td>6.0</td>\n",
       "      <td>NaN</td>\n",
       "      <td>c(\"Soak saffron in warm milk for 5 minutes and...</td>\n",
       "    </tr>\n",
       "    <tr>\n",
       "      <th>2</th>\n",
       "      <td>40</td>\n",
       "      <td>Best Lemonade</td>\n",
       "      <td>1566</td>\n",
       "      <td>Stephen Little</td>\n",
       "      <td>PT5M</td>\n",
       "      <td>PT30M</td>\n",
       "      <td>PT35M</td>\n",
       "      <td>1999-09-05T19:52:00Z</td>\n",
       "      <td>This is from one of my  first Good House Keepi...</td>\n",
       "      <td>c(\"https://img.sndimg.com/food/image/upload/w_...</td>\n",
       "      <td>Beverages</td>\n",
       "      <td>c(\"Low Protein\", \"Low Cholesterol\", \"Healthy\",...</td>\n",
       "      <td>c(\"1 1/2\", \"1\", NA, \"1 1/2\", NA, \"3/4\")</td>\n",
       "      <td>c(\"sugar\", \"lemons, rind of\", \"lemon, zest of\"...</td>\n",
       "      <td>4.5</td>\n",
       "      <td>10.0</td>\n",
       "      <td>311.1</td>\n",
       "      <td>0.2</td>\n",
       "      <td>0.0</td>\n",
       "      <td>0.0</td>\n",
       "      <td>1.8</td>\n",
       "      <td>81.5</td>\n",
       "      <td>0.4</td>\n",
       "      <td>77.2</td>\n",
       "      <td>0.3</td>\n",
       "      <td>4.0</td>\n",
       "      <td>NaN</td>\n",
       "      <td>c(\"Into a 1 quart Jar with tight fitting lid, ...</td>\n",
       "    </tr>\n",
       "  </tbody>\n",
       "</table>\n",
       "</div>"
      ],
      "text/plain": [
       "   RecipeId                               Name  AuthorId      AuthorName  \\\n",
       "0        38  Low-Fat Berry Blue Frozen Dessert      1533          Dancer   \n",
       "1        39                            Biryani      1567        elly9812   \n",
       "2        40                      Best Lemonade      1566  Stephen Little   \n",
       "\n",
       "  CookTime PrepTime TotalTime         DatePublished  \\\n",
       "0    PT24H    PT45M  PT24H45M  1999-08-09T21:46:00Z   \n",
       "1    PT25M     PT4H   PT4H25M  1999-08-29T13:12:00Z   \n",
       "2     PT5M    PT30M     PT35M  1999-09-05T19:52:00Z   \n",
       "\n",
       "                                         Description  \\\n",
       "0  Make and share this Low-Fat Berry Blue Frozen ...   \n",
       "1  Make and share this Biryani recipe from Food.com.   \n",
       "2  This is from one of my  first Good House Keepi...   \n",
       "\n",
       "                                              Images   RecipeCategory  \\\n",
       "0  c(\"https://img.sndimg.com/food/image/upload/w_...  Frozen Desserts   \n",
       "1  c(\"https://img.sndimg.com/food/image/upload/w_...   Chicken Breast   \n",
       "2  c(\"https://img.sndimg.com/food/image/upload/w_...        Beverages   \n",
       "\n",
       "                                            Keywords  \\\n",
       "0  c(\"Dessert\", \"Low Protein\", \"Low Cholesterol\",...   \n",
       "1  c(\"Chicken Thigh & Leg\", \"Chicken\", \"Poultry\",...   \n",
       "2  c(\"Low Protein\", \"Low Cholesterol\", \"Healthy\",...   \n",
       "\n",
       "                          RecipeIngredientQuantities  \\\n",
       "0                            c(\"4\", \"1/4\", \"1\", \"1\")   \n",
       "1  c(\"1\", \"4\", \"2\", \"2\", \"8\", \"1/4\", \"8\", \"1/2\", ...   \n",
       "2            c(\"1 1/2\", \"1\", NA, \"1 1/2\", NA, \"3/4\")   \n",
       "\n",
       "                               RecipeIngredientParts  AggregatedRating  \\\n",
       "0  c(\"blueberries\", \"granulated sugar\", \"vanilla ...               4.5   \n",
       "1  c(\"saffron\", \"milk\", \"hot green chili peppers\"...               3.0   \n",
       "2  c(\"sugar\", \"lemons, rind of\", \"lemon, zest of\"...               4.5   \n",
       "\n",
       "   ReviewCount  Calories   Fat  SaturatedFat  Cholesterol  Sodium  \\\n",
       "0          4.0     170.9   2.5           1.3          8.0    29.8   \n",
       "1          1.0    1110.7  58.8          16.6        372.8   368.4   \n",
       "2         10.0     311.1   0.2           0.0          0.0     1.8   \n",
       "\n",
       "   CarbohydrateContent  Fiber  Sugar  Protein  RecipeServings RecipeYield  \\\n",
       "0                 37.1    3.6   30.2      3.2             4.0         NaN   \n",
       "1                 84.4    9.0   20.4     63.4             6.0         NaN   \n",
       "2                 81.5    0.4   77.2      0.3             4.0         NaN   \n",
       "\n",
       "                                  RecipeInstructions  \n",
       "0  c(\"Toss 2 cups berries with sugar.\", \"Let stan...  \n",
       "1  c(\"Soak saffron in warm milk for 5 minutes and...  \n",
       "2  c(\"Into a 1 quart Jar with tight fitting lid, ...  "
      ]
     },
     "execution_count": 20,
     "metadata": {},
     "output_type": "execute_result"
    }
   ],
   "source": [
    "pd.set_option('display.max_columns',28)\n",
    "df_recipes.head(3)"
   ]
  },
  {
   "cell_type": "code",
   "execution_count": null,
   "metadata": {},
   "outputs": [],
   "source": []
  },
  {
   "cell_type": "code",
   "execution_count": 52,
   "metadata": {},
   "outputs": [
    {
     "ename": "",
     "evalue": "",
     "output_type": "error",
     "traceback": [
      "\u001b[1;31mFailed to interrupt the Kernel. \n",
      "\u001b[1;31mUnable to start Kernel 'venv (Python 3.9.13)' due to a timeout waiting for the ports to get used. \n",
      "\u001b[1;31mView Jupyter <a href='command:jupyter.viewOutput'>log</a> for further details."
     ]
    }
   ],
   "source": [
    "\n",
    "# train_reviews, test_reviews = train_test_split(df_reviews, test_size=0.2, random_state=42)\n",
    "# train_reviews.to_csv('/programing/Simulasi TF/SIMULASI/ML/Dataset/train_reviews.csv', index=False)\n",
    "# test_reviews.to_csv('/programing/Simulasi TF/SIMULASI/ML/Dataset/test_reviews.csv', index=False)"
   ]
  },
  {
   "cell_type": "code",
   "execution_count": 21,
   "metadata": {},
   "outputs": [],
   "source": [
    "reviews_train = pd.read_csv(\"/programing/Simulasi TF/SIMULASI/ML/Dataset/train_reviews.csv\")\n",
    "reviews_test = pd.read_csv(\"/programing/Simulasi TF/SIMULASI/ML/Dataset/test_reviews.csv\")\n",
    "\n",
    "df_reviews = df_reviews.astype({'ReviewId': 'string', 'RecipeId':'string'})\n",
    "reviews_train = reviews_train.astype({'ReviewId': 'string', 'RecipeId':'string'})\n",
    "reviews_test = reviews_test.astype({'ReviewId': 'string', 'RecipeId':'string'})"
   ]
  },
  {
   "cell_type": "code",
   "execution_count": 22,
   "metadata": {},
   "outputs": [],
   "source": [
    "uniqueUserIds = df_reviews.ReviewId.unique()\n",
    "uniqueFoodIds = df_reviews.RecipeId.unique()"
   ]
  },
  {
   "cell_type": "code",
   "execution_count": 23,
   "metadata": {},
   "outputs": [],
   "source": [
    "class RankingModel(tf.keras.Model):\n",
    "\n",
    "    def __init__(self):\n",
    "        super().__init__()\n",
    "        embedding_dimension = 32\n",
    "\n",
    "        self.user_embeddings = tf.keras.Sequential([\n",
    "                                    tf.keras.layers.experimental.preprocessing.StringLookup(\n",
    "                                        vocabulary=uniqueUserIds, mask_token=None),\n",
    "                                        # add addional embedding to account for unknow tokens\n",
    "                                    tf.keras.layers.Embedding(len(uniqueUserIds)+1, embedding_dimension)\n",
    "                                    ])\n",
    "\n",
    "        self.product_embeddings = tf.keras.Sequential([\n",
    "                                    tf.keras.layers.experimental.preprocessing.StringLookup(\n",
    "                                        vocabulary=uniqueFoodIds, mask_token=None),\n",
    "                                    # add addional embedding to account for unknow tokens\n",
    "                                    tf.keras.layers.Embedding(len(uniqueFoodIds)+1, embedding_dimension)\n",
    "                                    ])\n",
    "        # Set up a retrieval task and evaluation metrics over the\n",
    "        # entire dataset of candidates.\n",
    "        self.ratings = tf.keras.Sequential([\n",
    "                            tf.keras.layers.Dense(256, activation=\"relu\"),\n",
    "                            tf.keras.layers.Dense(64,  activation=\"relu\"),\n",
    "                            tf.keras.layers.Dense(1)\n",
    "                              ])\n",
    "\n",
    "    def call(self, userId, foodId):\n",
    "        user_embeddings  = self.user_embeddings (userId)\n",
    "        food_embeddings = self.product_embeddings(foodId)\n",
    "        return self.ratings(tf.concat([user_embeddings, food_embeddings], axis=1))\n",
    "\n"
   ]
  },
  {
   "cell_type": "code",
   "execution_count": 24,
   "metadata": {},
   "outputs": [],
   "source": [
    "# Build a model.\n",
    "class FoodModel(tfrs.models.Model):\n",
    "\n",
    "    def __init__(self):\n",
    "        super().__init__()\n",
    "        self.ranking_model: tf.keras.Model = RankingModel()\n",
    "        self.task: tf.keras.layers.Layer   = tfrs.tasks.Ranking(\n",
    "                                                    loss    =  tf.keras.losses.MeanSquaredError(),\n",
    "                                                    metrics = [tf.keras.metrics.RootMeanSquaredError()])\n",
    "\n",
    "\n",
    "    def compute_loss(self, features, training=False):\n",
    "        rating_predictions = self.ranking_model(features[\"userID\"], features[\"foodID\"]  )\n",
    "\n",
    "        return self.task( labels=features[\"rating\"], predictions=rating_predictions)"
   ]
  },
  {
   "cell_type": "code",
   "execution_count": 26,
   "metadata": {},
   "outputs": [],
   "source": [
    "train_data = tf.data.Dataset.from_tensor_slices(\n",
    "{\n",
    "    \"userID\":tf.cast(reviews_train.ReviewId.values, tf.string),\n",
    "    \"foodID\":tf.cast(reviews_train.RecipeId.values, tf.string),\n",
    "    \"rating\":tf.cast(reviews_train.Rating.values, tf.float32)\n",
    "})\n",
    "\n",
    "test_data = tf.data.Dataset.from_tensor_slices(\n",
    "{\n",
    "    \"userID\":tf.cast(reviews_test.ReviewId.values, tf.string),\n",
    "    \"foodID\":tf.cast(reviews_test.RecipeId.values, tf.string),\n",
    "    \"rating\":tf.cast(reviews_test.Rating.values, tf.float32)\n",
    "})"
   ]
  },
  {
   "cell_type": "code",
   "execution_count": 27,
   "metadata": {},
   "outputs": [],
   "source": [
    "tf.random.set_seed(42)\n",
    "\n",
    "train_data = train_data.shuffle(100_000, seed=42, reshuffle_each_iteration=False)"
   ]
  },
  {
   "cell_type": "code",
   "execution_count": 28,
   "metadata": {},
   "outputs": [
    {
     "name": "stdout",
     "output_type": "stream",
     "text": [
      "Epoch 1/10\n",
      "136/136 [==============================] - 108s 138ms/step - root_mean_squared_error: 4.2614 - loss: 18.1356 - regularization_loss: 0.0000e+00 - total_loss: 18.1356\n",
      "Epoch 2/10\n",
      "136/136 [==============================] - 7s 51ms/step - root_mean_squared_error: 3.5465 - loss: 12.5528 - regularization_loss: 0.0000e+00 - total_loss: 12.5528\n",
      "Epoch 3/10\n",
      "136/136 [==============================] - 7s 49ms/step - root_mean_squared_error: 2.7242 - loss: 7.4038 - regularization_loss: 0.0000e+00 - total_loss: 7.4038\n",
      "Epoch 4/10\n",
      "136/136 [==============================] - 7s 48ms/step - root_mean_squared_error: 2.0158 - loss: 4.0542 - regularization_loss: 0.0000e+00 - total_loss: 4.0542\n",
      "Epoch 5/10\n",
      "136/136 [==============================] - 7s 49ms/step - root_mean_squared_error: 1.5629 - loss: 2.4391 - regularization_loss: 0.0000e+00 - total_loss: 2.4391\n",
      "Epoch 6/10\n",
      "136/136 [==============================] - 7s 50ms/step - root_mean_squared_error: 1.3569 - loss: 1.8402 - regularization_loss: 0.0000e+00 - total_loss: 1.8402\n",
      "Epoch 7/10\n",
      "136/136 [==============================] - 7s 49ms/step - root_mean_squared_error: 1.2891 - loss: 1.6616 - regularization_loss: 0.0000e+00 - total_loss: 1.6616\n",
      "Epoch 8/10\n",
      "136/136 [==============================] - 7s 50ms/step - root_mean_squared_error: 1.2712 - loss: 1.6160 - regularization_loss: 0.0000e+00 - total_loss: 1.6160\n",
      "Epoch 9/10\n",
      "136/136 [==============================] - 7s 51ms/step - root_mean_squared_error: 1.2669 - loss: 1.6052 - regularization_loss: 0.0000e+00 - total_loss: 1.6052\n",
      "Epoch 10/10\n",
      "136/136 [==============================] - 7s 52ms/step - root_mean_squared_error: 1.2659 - loss: 1.6025 - regularization_loss: 0.0000e+00 - total_loss: 1.6025\n"
     ]
    },
    {
     "data": {
      "text/plain": [
       "<keras.src.callbacks.History at 0x2b7036d5df0>"
      ]
     },
     "execution_count": 28,
     "metadata": {},
     "output_type": "execute_result"
    }
   ],
   "source": [
    "model = FoodModel()\n",
    "model.compile(optimizer=tf.keras.optimizers.Adagrad(learning_rate=0.001))\n",
    "cached_train = train_data.shuffle(100_000).batch(8192).cache()\n",
    "cached_test = test_data.batch(4096).cache()\n",
    "model.fit(cached_train, epochs=10)"
   ]
  },
  {
   "cell_type": "code",
   "execution_count": 29,
   "metadata": {},
   "outputs": [],
   "source": [
    "user_rand = uniqueUserIds[200]\n",
    "test_rating = {}\n",
    "for m in test_data.take(10):\n",
    "    test_rating[m[\"foodID\"].numpy()]=RankingModel()(tf.convert_to_tensor([user_rand]),tf.convert_to_tensor([m[\"foodID\"]]))"
   ]
  },
  {
   "cell_type": "code",
   "execution_count": 33,
   "metadata": {},
   "outputs": [
    {
     "name": "stdout",
     "output_type": "stream",
     "text": [
      "Top 10 recommended products for User 312: \n",
      "Honey-Herb Cornish Game Hens\n",
      "Ultimate Peanut Butter Pie\n",
      "Cream Soup Mix (Replacement for Cream of ___ Soups) Substitute\n",
      "Reed's &quot;slap Yo' Momma They're so Good&quot;  Brownies\n",
      "Creamy Chickpea &amp; Rosemary Soup\n",
      "Kittencal's Chinese Chicken Balls With Sweet and Sour Sauce\n",
      "My Own Coleslaw Dressing\n",
      "Fresh Tomato and Spinach Pasta\n",
      "Taquito-Enchilada Bake\n",
      "Zesty Low-Fat Chicken Breasts\n"
     ]
    }
   ],
   "source": [
    "print(\"Top 10 recommended products for User {}: \".format(user_rand))\n",
    "for m in sorted(test_rating, key=test_rating.get, reverse=True):\n",
    "    print(df_recipes.loc[df_recipes['RecipeId'] == int(m.decode())]['Name'].item())"
   ]
  }
 ],
 "metadata": {
  "kernelspec": {
   "display_name": "venv",
   "language": "python",
   "name": "python3"
  },
  "language_info": {
   "codemirror_mode": {
    "name": "ipython",
    "version": 3
   },
   "file_extension": ".py",
   "mimetype": "text/x-python",
   "name": "python",
   "nbconvert_exporter": "python",
   "pygments_lexer": "ipython3",
   "version": "3.9.13"
  }
 },
 "nbformat": 4,
 "nbformat_minor": 2
}
